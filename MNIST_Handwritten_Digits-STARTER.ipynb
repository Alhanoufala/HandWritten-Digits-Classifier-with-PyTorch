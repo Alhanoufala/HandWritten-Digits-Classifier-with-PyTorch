{
 "cells": [
  {
   "cell_type": "markdown",
   "metadata": {},
   "source": [
    "# Introduction\n",
    "\n",
    "In this project, you will build a neural network of your own design to evaluate the MNIST dataset.\n",
    "\n",
    "Some of the benchmark results on MNIST include can be found [on Yann LeCun's page](http://yann.lecun.com/exdb/mnist/) and include:\n",
    "\n",
    "88% [Lecun et al., 1998](http://yann.lecun.com/exdb/publis/pdf/lecun-98.pdf)\n",
    "95.3% [Lecun et al., 1998](http://yann.lecun.com/exdb/publis/pdf/lecun-98.pdf)\n",
    "99.65% [Ciresan et al., 2011](http://people.idsia.ch/~juergen/ijcai2011.pdf)\n",
    "\n",
    "MNIST is a great dataset for sanity checking your models, since the accuracy levels achieved by large convolutional neural networks and small linear models are both quite high. This makes it important to be familiar with the data.\n",
    "\n",
    "## Installation"
   ]
  },
  {
   "cell_type": "markdown",
   "metadata": {},
   "source": [
    "## Imports"
   ]
  },
  {
   "cell_type": "code",
   "execution_count": 1,
   "metadata": {},
   "outputs": [],
   "source": [
    "## This cell contains the essential imports you will need – DO NOT CHANGE THE CONTENTS! ##\n",
    "import torch\n",
    "import torch.nn as nn\n",
    "import torch.nn.functional as F\n",
    "import torch.optim as optim\n",
    "import torchvision\n",
    "from torchvision import datasets\n",
    "import torchvision.transforms as transforms\n",
    "import matplotlib.pyplot as plt\n",
    "import numpy as np"
   ]
  },
  {
   "cell_type": "code",
   "execution_count": 2,
   "metadata": {},
   "outputs": [
    {
     "name": "stdout",
     "output_type": "stream",
     "text": [
      "Defaulting to user installation because normal site-packages is not writeable\n",
      "Requirement already satisfied: ipywidgets in /root/.local/lib/python3.7/site-packages (8.1.1)\n",
      "Requirement already satisfied: traitlets>=4.3.1 in /opt/conda/lib/python3.7/site-packages (from ipywidgets) (4.3.3)\n",
      "Requirement already satisfied: ipython>=6.1.0 in /opt/conda/lib/python3.7/site-packages (from ipywidgets) (7.13.0)\n",
      "Requirement already satisfied: comm>=0.1.3 in /root/.local/lib/python3.7/site-packages (from ipywidgets) (0.1.4)\n",
      "Requirement already satisfied: jupyterlab-widgets~=3.0.9 in /root/.local/lib/python3.7/site-packages (from ipywidgets) (3.0.9)\n",
      "Requirement already satisfied: widgetsnbextension~=4.0.9 in /root/.local/lib/python3.7/site-packages (from ipywidgets) (4.0.9)\n",
      "Requirement already satisfied: decorator in /opt/conda/lib/python3.7/site-packages (from traitlets>=4.3.1->ipywidgets) (4.4.2)\n",
      "Requirement already satisfied: ipython-genutils in /opt/conda/lib/python3.7/site-packages (from traitlets>=4.3.1->ipywidgets) (0.2.0)\n",
      "Requirement already satisfied: six in /opt/conda/lib/python3.7/site-packages (from traitlets>=4.3.1->ipywidgets) (1.16.0)\n",
      "Requirement already satisfied: jedi>=0.10 in /opt/conda/lib/python3.7/site-packages (from ipython>=6.1.0->ipywidgets) (0.16.0)\n",
      "Requirement already satisfied: pexpect; sys_platform != \"win32\" in /opt/conda/lib/python3.7/site-packages (from ipython>=6.1.0->ipywidgets) (4.8.0)\n",
      "Requirement already satisfied: pygments in /opt/conda/lib/python3.7/site-packages (from ipython>=6.1.0->ipywidgets) (2.5.2)\n",
      "Requirement already satisfied: backcall in /opt/conda/lib/python3.7/site-packages (from ipython>=6.1.0->ipywidgets) (0.1.0)\n",
      "Requirement already satisfied: pickleshare in /opt/conda/lib/python3.7/site-packages (from ipython>=6.1.0->ipywidgets) (0.7.5)\n",
      "Requirement already satisfied: prompt-toolkit!=3.0.0,!=3.0.1,<3.1.0,>=2.0.0 in /opt/conda/lib/python3.7/site-packages (from ipython>=6.1.0->ipywidgets) (3.0.3)\n",
      "Requirement already satisfied: setuptools>=18.5 in /opt/conda/lib/python3.7/site-packages (from ipython>=6.1.0->ipywidgets) (45.2.0.post20200209)\n",
      "Requirement already satisfied: parso>=0.5.2 in /opt/conda/lib/python3.7/site-packages (from jedi>=0.10->ipython>=6.1.0->ipywidgets) (0.6.1)\n",
      "Requirement already satisfied: ptyprocess>=0.5 in /opt/conda/lib/python3.7/site-packages (from pexpect; sys_platform != \"win32\"->ipython>=6.1.0->ipywidgets) (0.6.0)\n",
      "Requirement already satisfied: wcwidth in /opt/conda/lib/python3.7/site-packages (from prompt-toolkit!=3.0.0,!=3.0.1,<3.1.0,>=2.0.0->ipython>=6.1.0->ipywidgets) (0.1.8)\n",
      "Note: you may need to restart the kernel to use updated packages.\n"
     ]
    }
   ],
   "source": [
    "pip install ipywidgets"
   ]
  },
  {
   "cell_type": "markdown",
   "metadata": {},
   "source": [
    "#### Important: Restart the Kernel before you move on to the next step."
   ]
  },
  {
   "cell_type": "markdown",
   "metadata": {},
   "source": [
    "## Load the Dataset\n",
    "\n",
    "Specify your transforms as a list if you intend to .\n",
    "The transforms module is already loaded as `transforms`.\n",
    "\n",
    "MNIST is fortunately included in the torchvision module.\n",
    "Then, you can create your dataset using the `MNIST` object from `torchvision.datasets` ([the documentation is available here](https://pytorch.org/vision/stable/datasets.html#mnist)).\n",
    "Make sure to specify `download=True`! \n",
    "\n",
    "Once your dataset is created, you'll also need to define a `DataLoader` from the `torch.utils.data` module for both the train and the test set."
   ]
  },
  {
   "cell_type": "code",
   "execution_count": 3,
   "metadata": {},
   "outputs": [
    {
     "name": "stderr",
     "output_type": "stream",
     "text": [
      "/opt/conda/lib/python3.7/site-packages/torchvision/datasets/mnist.py:498: UserWarning: The given NumPy array is not writable, and PyTorch does not support non-writable tensors. This means writing to this tensor will result in undefined behavior. You may want to copy the array to protect its data or make it writable before converting it to a tensor. This type of warning will be suppressed for the rest of this program. (Triggered internally at  ../torch/csrc/utils/tensor_numpy.cpp:178.)\n",
      "  return torch.from_numpy(parsed.astype(m[2], copy=False)).view(*s)\n"
     ]
    }
   ],
   "source": [
    "# Define transforms\n",
    "transform = transforms.ToTensor()\n",
    "\n",
    "# Create training set and define training dataloader\n",
    "train_data = datasets.MNIST(root='data', train=True, download=True, transform=transform)\n",
    "train_loader = torch.utils.data.DataLoader(train_data, batch_size=64)\n",
    "\n",
    "# Create test set and define test dataloader\n",
    "test_data = datasets.MNIST(root='data', train=False, download=True, transform=transform)\n",
    "test_loader = torch.utils.data.DataLoader(test_data, batch_size=64)"
   ]
  },
  {
   "cell_type": "code",
   "execution_count": 4,
   "metadata": {},
   "outputs": [
    {
     "data": {
      "text/plain": [
       "157"
      ]
     },
     "execution_count": 4,
     "metadata": {},
     "output_type": "execute_result"
    }
   ],
   "source": [
    "len(test_loader)"
   ]
  },
  {
   "cell_type": "code",
   "execution_count": 5,
   "metadata": {},
   "outputs": [
    {
     "data": {
      "text/plain": [
       "938"
      ]
     },
     "execution_count": 5,
     "metadata": {},
     "output_type": "execute_result"
    }
   ],
   "source": [
    "len(train_loader)"
   ]
  },
  {
   "cell_type": "code",
   "execution_count": 6,
   "metadata": {},
   "outputs": [
    {
     "data": {
      "text/plain": [
       "60000"
      ]
     },
     "execution_count": 6,
     "metadata": {},
     "output_type": "execute_result"
    }
   ],
   "source": [
    "len(train_data)"
   ]
  },
  {
   "cell_type": "code",
   "execution_count": 7,
   "metadata": {},
   "outputs": [
    {
     "data": {
      "text/plain": [
       "10000"
      ]
     },
     "execution_count": 7,
     "metadata": {},
     "output_type": "execute_result"
    }
   ],
   "source": [
    "len(test_data)"
   ]
  },
  {
   "cell_type": "code",
   "execution_count": 8,
   "metadata": {},
   "outputs": [
    {
     "data": {
      "text/plain": [
       "60000"
      ]
     },
     "execution_count": 8,
     "metadata": {},
     "output_type": "execute_result"
    }
   ],
   "source": [
    "len(train_loader.dataset)"
   ]
  },
  {
   "cell_type": "code",
   "execution_count": 9,
   "metadata": {},
   "outputs": [
    {
     "data": {
      "text/plain": [
       "10000"
      ]
     },
     "execution_count": 9,
     "metadata": {},
     "output_type": "execute_result"
    }
   ],
   "source": [
    "len(test_loader.dataset)"
   ]
  },
  {
   "cell_type": "markdown",
   "metadata": {},
   "source": [
    "## Justify your preprocessing\n",
    "\n",
    "In your own words, why did you choose the transforms you chose? If you didn't use any preprocessing steps, why not?\n",
    "transforms.ToTensor(): This transformation converts the image data from the original format (usually integers ranging from 0 to 255) into PyTorch's preferred format, which is a floating-point tensor. Each pixel's value is divided by 255 to ensure that the resulting tensor contains values between 0 and 1. This transformation is essential because deep learning models typically work with floating-point tensors, and this format is more suitable for gradient-based optimization algorithms. It also ensures that the model's inputs are appropriately scaled."
   ]
  },
  {
   "cell_type": "markdown",
   "metadata": {},
   "source": [
    "transforms.ToTensor(): This transformation converts the image data from the original format (usually integers ranging from 0 to 255) into PyTorch's preferred format, which is a floating-point tensor. Each pixel's value is divided by 255 to ensure that the resulting tensor contains values between 0 and 1. This transformation is essential because deep learning models typically work with floating-point tensors, and this format is more suitable for gradient-based optimization algorithms. It also ensures that the model's inputs are appropriately scaled."
   ]
  },
  {
   "cell_type": "markdown",
   "metadata": {},
   "source": [
    "## Explore the Dataset\n",
    "Using matplotlib, numpy, and torch, explore the dimensions of your data.\n",
    "\n",
    "You can view images using the `show5` function defined below – it takes a data loader as an argument.\n",
    "Remember that normalized images will look really weird to you! You may want to try changing your transforms to view images.\n",
    "Typically using no transforms other than `toTensor()` works well for viewing – but not as well for training your network.\n",
    "If `show5` doesn't work, go back and check your code for creating your data loaders and your training/test sets."
   ]
  },
  {
   "cell_type": "code",
   "execution_count": 10,
   "metadata": {},
   "outputs": [],
   "source": [
    "## This cell contains a function for showing 5 images from a dataloader – DO NOT CHANGE THE CONTENTS! ##\n",
    "def show5(img_loader):\n",
    "    dataiter = iter(img_loader)\n",
    "    \n",
    "    batch = next(dataiter)\n",
    "    labels = batch[1][0:5]\n",
    "    images = batch[0][0:5]\n",
    "    for i in range(5):\n",
    "        print(int(labels[i].detach()))\n",
    "    \n",
    "        image = images[i].numpy()\n",
    "        plt.imshow(image.T.squeeze().T)\n",
    "        plt.show()"
   ]
  },
  {
   "cell_type": "code",
   "execution_count": 11,
   "metadata": {},
   "outputs": [
    {
     "name": "stdout",
     "output_type": "stream",
     "text": [
      "5\n"
     ]
    },
    {
     "data": {
      "image/png": "[encoded data removed]",
      "text/plain": [
       "<Figure size 432x288 with 1 Axes>"
      ]
     },
     "metadata": {
      "needs_background": "light"
     },
     "output_type": "display_data"
    },
    {
     "name": "stdout",
     "output_type": "stream",
     "text": [
      "0\n"
     ]
    },
    {
     "data": {
      "image/png": "[encoded data removed]",
      "text/plain": [
       "<Figure size 432x288 with 1 Axes>"
      ]
     },
     "metadata": {
      "needs_background": "light"
     },
     "output_type": "display_data"
    },
    {
     "name": "stdout",
     "output_type": "stream",
     "text": [
      "4\n"
     ]
    },
    {
     "data": {
      "image/png": "[encoded data removed]",
      "text/plain": [
       "<Figure size 432x288 with 1 Axes>"
      ]
     },
     "metadata": {
      "needs_background": "light"
     },
     "output_type": "display_data"
    },
    {
     "name": "stdout",
     "output_type": "stream",
     "text": [
      "1\n"
     ]
    },
    {
     "data": {
      "image/png": "[encoded data removed]",
      "text/plain": [
       "<Figure size 432x288 with 1 Axes>"
      ]
     },
     "metadata": {
      "needs_background": "light"
     },
     "output_type": "display_data"
    },
    {
     "name": "stdout",
     "output_type": "stream",
     "text": [
      "9\n"
     ]
    },
    {
     "data": {
      "image/png": "[encoded data removed]",
      "text/plain": [
       "<Figure size 432x288 with 1 Axes>"
      ]
     },
     "metadata": {
      "needs_background": "light"
     },
     "output_type": "display_data"
    }
   ],
   "source": [
    "# Explore data\n",
    "show5(train_loader)"
   ]
  },
  {
   "cell_type": "markdown",
   "metadata": {},
   "source": [
    "## Build your Neural Network\n",
    "Using the layers in `torch.nn` (which has been imported as `nn`) and the `torch.nn.functional` module (imported as `F`), construct a neural network based on the parameters of the dataset.\n",
    "Use any architecture you like. \n",
    "\n",
    "*Note*: If you did not flatten your tensors in your transforms or as part of your preprocessing and you are using only `Linear` layers, make sure to use the `Flatten` layer in your network!"
   ]
  },
  {
   "cell_type": "code",
   "execution_count": 12,
   "metadata": {},
   "outputs": [],
   "source": [
    "def build_neural_network():\n",
    "    # Create a Sequential model to define the architecture\n",
    "    model = nn.Sequential(\n",
    "        # Flatten layer: This layer reshapes the input data from a 2D grid (28x28 pixels) into a 1D tensor (784 elements).\n",
    "        nn.Flatten(),\n",
    "\n",
    "        # Fully connected layer 1: This layer connects all 784 input features to 128 hidden units.\n",
    "        nn.Linear(784, 128),\n",
    "\n",
    "        # ReLU activation: Applies the Rectified Linear Unit (ReLU) activation function to introduce non-linearity.\n",
    "        nn.ReLU(),\n",
    "\n",
    "        # Fully connected layer 2: This layer connects the 128 hidden units to 64 hidden units.\n",
    "        nn.Linear(128, 64),\n",
    "\n",
    "        # ReLU activation: Another ReLU activation function applied to the outputs of the second layer.\n",
    "        nn.ReLU(),\n",
    "\n",
    "        # Fully connected layer 3: This layer connects the 64 hidden units to the output layer with 10 units.\n",
    "        # For classification tasks, this layer often has as many units as there are classes.\n",
    "        nn.Linear(64, 10)\n",
    "    )\n",
    "\n",
    "    return model"
   ]
  },
  {
   "cell_type": "markdown",
   "metadata": {},
   "source": [
    "Specify a loss function and an optimizer, and instantiate the model.\n",
    "\n",
    "If you use a less common loss function, please note why you chose that loss function in a comment."
   ]
  },
  {
   "cell_type": "code",
   "execution_count": 13,
   "metadata": {},
   "outputs": [],
   "source": [
    "# Instantiate the model\n",
    "model =build_neural_network()\n",
    "\n",
    "# Set up the loss function\n",
    "loss_function = nn.CrossEntropyLoss()\n",
    "\n",
    "# Set up the optimizer\n",
    "optimizer = optim.Adam(model.parameters(), lr=0.0009)"
   ]
  },
  {
   "cell_type": "markdown",
   "metadata": {},
   "source": [
    "## Running your Neural Network\n",
    "Use whatever method you like to train your neural network, and ensure you record the average loss at each epoch. \n",
    "Don't forget to use `torch.device()` and the `.to()` method for both your model and your data if you are using GPU!\n",
    "\n",
    "If you want to print your loss **during** each epoch, you can use the `enumerate` function and print the loss after a set number of batches. 250 batches works well for most people!\n",
    "\n",
    "## Testing your model\n",
    "Using the previously created DataLoader for the test set, compute the percentage of correct predictions using the highest probability prediction.\n",
    "\n",
    "If your accuracy is over 90%, great work, but see if you can push a bit further! If your accuracy is under 90%, you'll need to make improvements. Go back and check your model architecture, loss function, and optimizer to make sure they're appropriate for an image classification task."
   ]
  },
  {
   "cell_type": "code",
   "execution_count": 14,
   "metadata": {},
   "outputs": [
    {
     "name": "stdout",
     "output_type": "stream",
     "text": [
      "Epoch 1/5.. Train loss: 0.681.. Test loss: 50.942.. Test accuracy: 90.730\n",
      "Epoch 1/5.. Train loss: 0.297.. Test loss: 37.260.. Test accuracy: 93.120\n",
      "Epoch 1/5.. Train loss: 0.258.. Test loss: 32.186.. Test accuracy: 94.130\n",
      "Epoch 2/5.. Train loss: 0.187.. Test loss: 24.579.. Test accuracy: 95.380\n",
      "Epoch 2/5.. Train loss: 0.161.. Test loss: 22.437.. Test accuracy: 95.490\n",
      "Epoch 2/5.. Train loss: 0.158.. Test loss: 21.460.. Test accuracy: 95.680\n",
      "Epoch 3/5.. Train loss: 0.121.. Test loss: 17.412.. Test accuracy: 96.590\n",
      "Epoch 3/5.. Train loss: 0.109.. Test loss: 17.523.. Test accuracy: 96.350\n",
      "Epoch 3/5.. Train loss: 0.111.. Test loss: 19.265.. Test accuracy: 96.090\n",
      "Epoch 4/5.. Train loss: 0.087.. Test loss: 14.734.. Test accuracy: 97.050\n",
      "Epoch 4/5.. Train loss: 0.080.. Test loss: 14.926.. Test accuracy: 96.970\n",
      "Epoch 4/5.. Train loss: 0.084.. Test loss: 18.156.. Test accuracy: 96.370\n",
      "Epoch 5/5.. Train loss: 0.065.. Test loss: 13.738.. Test accuracy: 97.220\n",
      "Epoch 5/5.. Train loss: 0.061.. Test loss: 13.486.. Test accuracy: 97.370\n",
      "Epoch 5/5.. Train loss: 0.065.. Test loss: 17.380.. Test accuracy: 96.500\n"
     ]
    }
   ],
   "source": [
    "# Train the neural network\n",
    "device = torch.device(\"cuda:0\" if torch.cuda.is_available() else \"cpu\")\n",
    "# Move the model to the available device (GPU or CPU)\n",
    "model.to(device)\n",
    "\n",
    "epochs = 5\n",
    "print_every = 250\n",
    "training_loss_values = []\n",
    "accuracy_values = []\n",
    "\n",
    "# Training loop\n",
    "for epoch in range(epochs):\n",
    "    model.train()\n",
    "    training_loss = 0.0\n",
    "    total_batches = len(train_loader)\n",
    "    \n",
    "    for batch_idx, (inputs, labels) in enumerate(train_loader):\n",
    "        # Move inputs and labels to the default device\n",
    "        inputs, labels = inputs.to(device), labels.to(device)\n",
    "        \n",
    "        # Set all the gradients to zero for every parameter the optimizer is responsible for\n",
    "        optimizer.zero_grad()\n",
    "\n",
    "        # Forward pass\n",
    "        outputs = model.forward(inputs)\n",
    "        \n",
    "        # Calculate the loss\n",
    "        loss = loss_function(outputs, labels)\n",
    "        \n",
    "        # Backward pass and optimization\n",
    "        loss.backward()\n",
    "        \n",
    "        # Update parameters using computed gradients\n",
    "        optimizer.step()\n",
    "        \n",
    "        training_loss += loss.item()\n",
    "        \n",
    "        if (batch_idx + 1) % print_every == 0:\n",
    "            average_loss = training_loss / print_every\n",
    "            training_loss_values.append(average_loss)\n",
    "            training_loss = 0.0\n",
    "            test_loss = 0\n",
    "            accuracy = 0\n",
    "            \n",
    "            # Evaluation on the test set\n",
    "            model.eval()\n",
    "            \n",
    "            correct_predictions = 0\n",
    "            \n",
    "            with torch.no_grad():\n",
    "                for inputs, labels in test_loader:\n",
    "                    inputs, labels = inputs.to(device), labels.to(device)\n",
    "                    outputs = model.forward(inputs)\n",
    "                    batch_loss = loss_function(outputs, labels)\n",
    "                    test_loss += batch_loss.item()\n",
    "                    \n",
    "                    # Testing the model\n",
    "                    # Predicted labels with highest probability\n",
    "                    _, predicted_labels = torch.max(outputs, dim=1)\n",
    "                    # Number of correct predictions\n",
    "                    correct_predictions += (predicted_labels == labels).sum().item()\n",
    "                    # Total samples\n",
    "                    samples = len(test_loader.dataset)\n",
    "                    # Accuracy\n",
    "                    accuracy = (correct_predictions / samples) * 100\n",
    "                    accuracy_values.append(accuracy)\n",
    "                    \n",
    "            print(f\"Epoch {epoch+1}/{epochs}.. \"\n",
    "                  f\"Train loss: {average_loss:.3f}.. \"\n",
    "                  f\"Test loss: {test_loss:.3f}.. \"\n",
    "                  f\"Test accuracy: {accuracy:.3f}\")"
   ]
  },
  {
   "cell_type": "markdown",
   "metadata": {},
   "source": [
    "Plot the training loss (and validation loss/accuracy, if recorded)."
   ]
  },
  {
   "cell_type": "code",
   "execution_count": 15,
   "metadata": {},
   "outputs": [
    {
     "data": {
      "image/png": "[encoded data removed]",
      "text/plain": [
       "<Figure size 432x288 with 1 Axes>"
      ]
     },
     "metadata": {
      "needs_background": "light"
     },
     "output_type": "display_data"
    }
   ],
   "source": [
    "#Plot training loss\n",
    "plt.plot(training_loss_values, label='average_loss')\n",
    "plt.xlabel('epoch')\n",
    "plt.ylabel('values')\n",
    "plt.legend()\n",
    "plt.show()"
   ]
  },
  {
   "cell_type": "markdown",
   "metadata": {},
   "source": [
    "## Improving your model\n",
    "\n",
    "Once your model is done training, try tweaking your hyperparameters and training again below to improve your accuracy on the test set!"
   ]
  },
  {
   "cell_type": "code",
   "execution_count": 16,
   "metadata": {},
   "outputs": [],
   "source": [
    "def build_neural_network():\n",
    "    # Create a Sequential model to define the architecture\n",
    "    model = nn.Sequential(\n",
    "        # Flatten layer: This layer reshapes the input data from a 2D grid (28x28 pixels) into a 1D tensor (784 elements).\n",
    "        nn.Flatten(),\n",
    "\n",
    "        # Fully connected layer 1: This layer connects all 784 input features to 128 hidden units.\n",
    "        nn.Linear(784, 128),\n",
    "\n",
    "        # ReLU activation: Applies the Rectified Linear Unit (ReLU) activation function to introduce non-linearity.\n",
    "        nn.ReLU(),\n",
    "        \n",
    "        # Dropout: Introduces dropout for regularization, randomly setting 15% of the weights to zero during training.\n",
    "        nn.Dropout(p=0.15),\n",
    "\n",
    "        # Fully connected layer 2: This layer connects the 128 hidden units to 64 hidden units.\n",
    "        nn.Linear(128, 64),\n",
    "\n",
    "        # ReLU activation: Another ReLU activation function applied to the outputs of the second layer.\n",
    "        nn.ReLU(),\n",
    "\n",
    "        # Fully connected layer 3: This layer connects the 64 hidden units to the output layer with 10 units.\n",
    "        # For classification tasks, this layer often has as many units as there are classes.\n",
    "        nn.Linear(64, 10),\n",
    "        \n",
    "        # LogSoftmax activation: Applies the Logarithmic Softmax activation function along the second dimension (across classes).\n",
    "        nn.LogSoftmax(dim=1)\n",
    "    )\n",
    "\n",
    "    return model\n",
    "\n",
    "#Instantiate the model\n",
    "model = build_neural_network()\n",
    "#set up loss function\n",
    "loss_function=nn.NLLLoss()\n",
    "\n",
    "#set up optimizer\n",
    "optimizer=optim.SGD(model.parameters(), lr=0.02)"
   ]
  },
  {
   "cell_type": "code",
   "execution_count": null,
   "metadata": {},
   "outputs": [
    {
     "name": "stdout",
     "output_type": "stream",
     "text": [
      "Epoch 1/12.. Train loss: 2.118.. Test loss: 270.203.. Test accuracy: 63.980\n"
     ]
    }
   ],
   "source": [
    "# Train the neural network\n",
    "device = torch.device(\"cuda:0\" if torch.cuda.is_available() else \"cpu\")\n",
    "# Move the model to the available device (GPU or CPU)\n",
    "model.to(device)\n",
    "\n",
    "epochs = 12\n",
    "print_every = 250\n",
    "training_loss_values = []\n",
    "accuracy_values = []\n",
    "\n",
    "# Training loop\n",
    "for epoch in range(epochs):\n",
    "    model.train()\n",
    "    training_loss = 0.0\n",
    "    total_batches = len(train_loader)\n",
    "    \n",
    "    for batch_idx, (inputs, labels) in enumerate(train_loader):\n",
    "        # Move inputs and labels to the default device\n",
    "        inputs, labels = inputs.to(device), labels.to(device)\n",
    "        \n",
    "        # Set all the gradients to zero for every parameter the optimizer is responsible for\n",
    "        optimizer.zero_grad()\n",
    "\n",
    "        # Forward pass\n",
    "        outputs = model.forward(inputs)\n",
    "        \n",
    "        # Calculate the loss\n",
    "        loss = loss_function(outputs, labels)\n",
    "         # Backward pass and optimization\n",
    "        loss.backward()\n",
    "        \n",
    "        # Update parameters using computed gradients\n",
    "        optimizer.step()\n",
    "        \n",
    "        training_loss += loss.item()\n",
    "        \n",
    "        if (batch_idx + 1) % print_every == 0:\n",
    "            average_loss = training_loss / print_every\n",
    "            training_loss_values.append(average_loss)\n",
    "            training_loss = 0.0\n",
    "            test_loss = 0\n",
    "            accuracy = 0\n",
    "            \n",
    "            # Evaluation on the test set\n",
    "            model.eval()\n",
    "            \n",
    "            correct_predictions = 0\n",
    "            \n",
    "            with torch.no_grad():\n",
    "                for inputs, labels in test_loader:\n",
    "                    inputs, labels = inputs.to(device), labels.to(device)\n",
    "                    outputs = model.forward(inputs)\n",
    "                    batch_loss = loss_function(outputs, labels)\n",
    "                    test_loss += batch_loss.item()\n",
    "                    \n",
    "                    # Testing the model\n",
    "                    # Predicted labels with highest probability\n",
    "                    _, predicted_labels = torch.max(outputs, dim=1)\n",
    "                    # Number of correct predictions\n",
    "                    correct_predictions += (predicted_labels == labels).sum().item()\n",
    "                    # Total samples\n",
    "                    samples = len(test_loader.dataset)\n",
    "                    # Accuracy\n",
    "                    accuracy = (correct_predictions / samples) * 100\n",
    "                    accuracy_values.append(accuracy)\n",
    "                    \n",
    "            print(f\"Epoch {epoch+1}/{epochs}.. \"\n",
    "                  f\"Train loss: {average_loss:.3f}.. \"\n",
    "                  f\"Test loss: {test_loss:.3f}.. \"\n",
    "                  f\"Test accuracy: {accuracy:.3f}\")"
   ]
  },
  {
   "cell_type": "markdown",
   "metadata": {},
   "source": [
    "## Saving your model\n",
    "Using `torch.save`, save your model for future loading."
   ]
  },
  {
   "cell_type": "code",
   "execution_count": null,
   "metadata": {},
   "outputs": [],
   "source": [
    "# Save the model to a file\n",
    "torch.save(model.state_dict(), 'my_model.pth')"
   ]
  }
 ],
 "metadata": {
  "kernelspec": {
   "display_name": "Python 3",
   "language": "python",
   "name": "python3"
  },
  "language_info": {
   "codemirror_mode": {
    "name": "ipython",
    "version": 3
   },
   "file_extension": ".py",
   "mimetype": "text/x-python",
   "name": "python",
   "nbconvert_exporter": "python",
   "pygments_lexer": "ipython3",
   "version": "3.7.6"
  }
 },
 "nbformat": 4,
 "nbformat_minor": 4
}
